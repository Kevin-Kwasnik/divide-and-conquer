{
 "cells": [
  {
   "cell_type": "markdown",
   "id": "9b70a3be",
   "metadata": {},
   "source": [
    "## Divide and Conquer\n",
    "\n",
    "The goal is to find a user provided number in user provided bounds in the shortest amount of time possible."
   ]
  },
  {
   "cell_type": "code",
   "execution_count": 349,
   "id": "d2ea91f6",
   "metadata": {},
   "outputs": [],
   "source": [
    "def boundary_choice():\n",
    "    \"\"\"\n",
    "    Takes in user input for an upper and lower bound\n",
    "    \"\"\"\n",
    "    \n",
    "    lower_choice = \"Wrong\"\n",
    "    upper_choice = \"Wrong\"\n",
    "    bounds = []\n",
    "    \n",
    "    while lower_choice.isdigit()==False :\n",
    "        lower_choice = input(\"Enter a lower_bound: \")\n",
    "        \n",
    "        if lower_choice.isdigit()==False:\n",
    "            print(\"Wrongly entered: \")\n",
    "        else:\n",
    "            bounds.append(lower_choice)\n",
    "        \n",
    "    while upper_choice.isdigit()==False and upper_choice.isdigit() <= int(lower_choice):\n",
    "        upper_choice = input(\"Enter an upper_bound: \")\n",
    "        \n",
    "        if upper_choice.isdigit()==False:\n",
    "            print(\"Wrongly entered: \")\n",
    "        \n",
    "        elif int(upper_choice) <= int(lower_choice):\n",
    "            print(\"Oops! That number is less than the lower bound\")\n",
    "            upper_choice = input(\"Enter a number higher than the lower bound\")\n",
    "            \n",
    "        \n",
    "            bounds.append(upper_choice)\n",
    "            \n",
    "        else:\n",
    "            bounds.append(upper_choice)\n",
    "            \n",
    "    return bounds\n",
    "    "
   ]
  },
  {
   "cell_type": "code",
   "execution_count": 350,
   "id": "c9c9d745",
   "metadata": {},
   "outputs": [
    {
     "name": "stdout",
     "output_type": "stream",
     "text": [
      "Enter a lower_bound: 100\n",
      "Enter an upper_bound: 99\n",
      "Oops! That number is less than the lower bound\n",
      "Enter a number higher than the lower bound300\n"
     ]
    },
    {
     "data": {
      "text/plain": [
       "['100', '300']"
      ]
     },
     "execution_count": 350,
     "metadata": {},
     "output_type": "execute_result"
    }
   ],
   "source": [
    "boundary_choice()"
   ]
  },
  {
   "cell_type": "code",
   "execution_count": 351,
   "id": "087f05e4",
   "metadata": {},
   "outputs": [],
   "source": [
    "def user_choice(lst):\n",
    "    \"\"\"\n",
    "    Restricts the user choice to something inside the \n",
    "    previously chosen bounds.\n",
    "    \"\"\"\n",
    "    game_on = True\n",
    "    \n",
    "    \n",
    "    while game_on == True:\n",
    "        \n",
    "        user_choice = input('Select a number you would like the computer to guess: ')\n",
    "        \n",
    "        if user_choice.isdigit()==False:\n",
    "            print(\"Please provide a number: \")\n",
    "        \n",
    "        elif int(user_choice) > int(lst[0]) and int(user_choice) < int(lst[1]):\n",
    "            game_on = False \n",
    "        \n",
    "        else:\n",
    "            print(\"Oops! That number is outside the bounds\")\n",
    "        \n",
    "    return user_choice\n",
    "    \n",
    "    \n",
    "        "
   ]
  },
  {
   "cell_type": "code",
   "execution_count": 354,
   "id": "6807e727",
   "metadata": {},
   "outputs": [],
   "source": [
    "my_list = [10, 20]"
   ]
  },
  {
   "cell_type": "code",
   "execution_count": 355,
   "id": "a3d7580a",
   "metadata": {},
   "outputs": [
    {
     "name": "stdout",
     "output_type": "stream",
     "text": [
      "Select a number you would like the computer to guess: 9\n",
      "Oops! That number is outside the bounds\n",
      "Select a number you would like the computer to guess: 12\n"
     ]
    },
    {
     "data": {
      "text/plain": [
       "'12'"
      ]
     },
     "execution_count": 355,
     "metadata": {},
     "output_type": "execute_result"
    }
   ],
   "source": [
    "user_choice(my_list)"
   ]
  },
  {
   "cell_type": "code",
   "execution_count": 356,
   "id": "ed6607e7",
   "metadata": {},
   "outputs": [],
   "source": [
    "def number_guesser(lst, choice):\n",
    "    \"\"\"\n",
    "    Guesses the number and checks against user input\n",
    "    \"\"\"\n",
    "    guess = (int(lst[0]) + int(lst[1]))/2\n",
    "    game_on = True\n",
    "    rounds = []   \n",
    "    \n",
    "    while game_on == True:\n",
    "        \n",
    "        rounds.append('a')\n",
    "        if guess == int(choice):\n",
    "            game_on = False\n",
    "           \n",
    "        elif guess > int(choice):\n",
    "            lst[1] = round(guess)\n",
    "            guess = (int(lst[0])+int(lst[1]))/2\n",
    "            print(guess)\n",
    "        elif guess < int(choice):\n",
    "            lst[0] = round(guess)\n",
    "            guess = (int(lst[0])+int(lst[1]))/2\n",
    "            print(guess)\n",
    "\n",
    "    print(f'The right number was {int(guess)}, this took {len(rounds)} guesses.')\n",
    "\n",
    "        "
   ]
  },
  {
   "cell_type": "code",
   "execution_count": 357,
   "id": "16d27b04",
   "metadata": {},
   "outputs": [
    {
     "name": "stdout",
     "output_type": "stream",
     "text": [
      "125.0\n",
      "112.5\n",
      "106.0\n",
      "103.0\n",
      "101.5\n",
      "101.0\n",
      "The right number was 101, this took 7 guesses.\n"
     ]
    }
   ],
   "source": [
    "number_guesser ([100, 200], '101')"
   ]
  },
  {
   "cell_type": "code",
   "execution_count": 358,
   "id": "e4488ee4",
   "metadata": {},
   "outputs": [],
   "source": [
    "def guess_the_number():\n",
    "    \n",
    "    boundaries = boundary_choice()\n",
    "    \n",
    "    unknown_choice = user_choice(boundaries)\n",
    "    \n",
    "    guess = number_guesser(boundaries, unknown_choice)\n",
    "    \n",
    "    return guess"
   ]
  },
  {
   "cell_type": "code",
   "execution_count": 359,
   "id": "f41b0d44",
   "metadata": {},
   "outputs": [
    {
     "name": "stdout",
     "output_type": "stream",
     "text": [
      "Enter a lower_bound: 120398\n",
      "Enter an upper_bound: 98127340987134058\n",
      "Select a number you would like the computer to guess: 324509873\n",
      "2.4531835246873816e+16\n",
      "1.2265917623497108e+16\n",
      "6132958811808753.0\n",
      "3066479405964575.5\n",
      "1533239703042487.0\n",
      "766619851581442.5\n",
      "383309925850920.0\n",
      "191654962985659.0\n",
      "95827481553028.5\n",
      "47913740836713.0\n",
      "23956870478555.5\n",
      "11978435299477.0\n",
      "5989217709937.5\n",
      "2994608915168.0\n",
      "1497304517783.0\n",
      "748652319090.5\n",
      "374326219744.0\n",
      "187163170071.0\n",
      "93581645234.5\n",
      "46790882816.0\n",
      "23395501607.0\n",
      "11697811002.5\n",
      "5848965700.0\n",
      "2924543049.0\n",
      "1462331723.5\n",
      "731226061.0\n",
      "365673229.5\n",
      "182896814.0\n",
      "274285022.0\n",
      "319979126.0\n",
      "342826178.0\n",
      "331402652.0\n",
      "325690889.0\n",
      "322835007.5\n",
      "324262948.5\n",
      "324976918.5\n",
      "324619933.0\n",
      "324441440.5\n",
      "324530686.5\n",
      "324486063.0\n",
      "324508374.5\n",
      "324519530.0\n",
      "324513952.0\n",
      "324511163.0\n",
      "324509768.5\n",
      "324510465.5\n",
      "324510117.0\n",
      "324509942.5\n",
      "324509855.0\n",
      "324509898.5\n",
      "324509876.5\n",
      "324509865.5\n",
      "324509871.0\n",
      "324509873.5\n",
      "324509872.5\n",
      "324509873.0\n",
      "The right number was 324509873, this took 57 guesses.\n"
     ]
    }
   ],
   "source": [
    "guess_the_number()"
   ]
  },
  {
   "cell_type": "code",
   "execution_count": null,
   "id": "237bf9a6",
   "metadata": {},
   "outputs": [],
   "source": []
  }
 ],
 "metadata": {
  "kernelspec": {
   "display_name": "Python 3 (ipykernel)",
   "language": "python",
   "name": "python3"
  },
  "language_info": {
   "codemirror_mode": {
    "name": "ipython",
    "version": 3
   },
   "file_extension": ".py",
   "mimetype": "text/x-python",
   "name": "python",
   "nbconvert_exporter": "python",
   "pygments_lexer": "ipython3",
   "version": "3.9.7"
  }
 },
 "nbformat": 4,
 "nbformat_minor": 5
}
